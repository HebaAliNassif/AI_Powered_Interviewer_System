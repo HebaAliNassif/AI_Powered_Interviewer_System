{
 "cells": [
  {
   "cell_type": "code",
   "execution_count": 1,
   "id": "ee8e74ad",
   "metadata": {},
   "outputs": [],
   "source": [
    "from face_aligner import FaceAligner\n",
    "import cv2\n",
    "from eye_center_locator import getEyesCenter"
   ]
  },
  {
   "cell_type": "code",
   "execution_count": 2,
   "id": "395bf11f",
   "metadata": {},
   "outputs": [],
   "source": [
    "haar_file = 'haarcascade_frontalface_default.xml'\n",
    "face_cascade = cv2.CascadeClassifier(haar_file)"
   ]
  },
  {
   "cell_type": "code",
   "execution_count": 3,
   "id": "a7f7a943",
   "metadata": {},
   "outputs": [],
   "source": [
    "fa = FaceAligner(desiredFaceWidth=100)"
   ]
  },
  {
   "cell_type": "code",
   "execution_count": 4,
   "id": "3501cb0b",
   "metadata": {},
   "outputs": [],
   "source": [
    "img_BGR = cv2.imread(\"face2.jpg\")\n",
    "img_GRAY = cv2.cvtColor(img_BGR, cv2.COLOR_BGR2GRAY)\n",
    "faces = face_cascade.detectMultiScale(img_GRAY)\n",
    "for (x, y, w, h) in faces:\n",
    "    face = fa.align_face(img_BGR, (x, y, w, h))\n",
    "    while True:    \n",
    "        if cv2.waitKey(5) == 27:\n",
    "            break\n",
    "        cv2.imshow('Face2', img_BGR[y :y + h , x :x + w ])\n",
    "        cv2.imshow('Face', face)\n",
    "    break\n",
    "    #fa = FaceAligner(desiredFaceWidth=255)\n",
    "    #imageAligned = fa.align(img_BGR, rightEyeCenter, leftEyeCenter)\n",
    "    #break\n",
    "cv2.destroyAllWindows()"
   ]
  },
  {
   "cell_type": "code",
   "execution_count": null,
   "id": "0f5ac2d4",
   "metadata": {},
   "outputs": [],
   "source": []
  }
 ],
 "metadata": {
  "kernelspec": {
   "display_name": "Python 3",
   "language": "python",
   "name": "python3"
  },
  "language_info": {
   "codemirror_mode": {
    "name": "ipython",
    "version": 3
   },
   "file_extension": ".py",
   "mimetype": "text/x-python",
   "name": "python",
   "nbconvert_exporter": "python",
   "pygments_lexer": "ipython3",
   "version": "3.8.8"
  }
 },
 "nbformat": 4,
 "nbformat_minor": 5
}
