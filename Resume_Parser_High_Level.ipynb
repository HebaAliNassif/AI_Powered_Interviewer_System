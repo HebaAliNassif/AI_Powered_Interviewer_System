{
  "nbformat": 4,
  "nbformat_minor": 0,
  "metadata": {
    "colab": {
      "name": "Resume Parser_High Level.ipynb",
      "provenance": [],
      "authorship_tag": "ABX9TyOgjakcOyNqYKUkMgg5XHUh",
      "include_colab_link": true
    },
    "kernelspec": {
      "name": "python3",
      "display_name": "Python 3"
    },
    "language_info": {
      "name": "python"
    }
  },
  "cells": [
    {
      "cell_type": "markdown",
      "metadata": {
        "id": "view-in-github",
        "colab_type": "text"
      },
      "source": [
        "<a href=\"https://colab.research.google.com/github/HebaAliNassif/AI_Powered_Interviewer_System/blob/main/Resume_Parser_High_Level.ipynb\" target=\"_parent\"><img src=\"https://colab.research.google.com/assets/colab-badge.svg\" alt=\"Open In Colab\"/></a>"
      ]
    },
    {
      "cell_type": "markdown",
      "source": [
        "# Resume Parsing"
      ],
      "metadata": {
        "id": "XzIX6KzF3a_c"
      }
    },
    {
      "cell_type": "code",
      "execution_count": null,
      "metadata": {
        "id": "0DoNc3-Z2yta"
      },
      "outputs": [],
      "source": [
        "import spacy\n",
        "import pickle\n",
        "import random"
      ]
    },
    {
      "cell_type": "code",
      "source": [
        "train_data = pickle.load(open('train_data.pkl', 'rb'))"
      ],
      "metadata": {
        "id": "AXMTDmGK3tV5"
      },
      "execution_count": null,
      "outputs": []
    },
    {
      "cell_type": "code",
      "source": [
        "train_data[0]"
      ],
      "metadata": {
        "colab": {
          "base_uri": "https://localhost:8080/"
        },
        "id": "7gFVAUrxFIW4",
        "outputId": "d1219783-2241-4d18-b2b9-8960c90e5d60"
      },
      "execution_count": null,
      "outputs": [
        {
          "output_type": "execute_result",
          "data": {
            "text/plain": [
              "('Govardhana K Senior Software Engineer  Bengaluru, Karnataka, Karnataka - Email me on Indeed: indeed.com/r/Govardhana-K/ b2de315d95905b68  Total IT experience 5 Years 6 Months Cloud Lending Solutions INC 4 Month • Salesforce Developer Oracle 5 Years 2 Month • Core Java Developer Languages Core Java, Go Lang Oracle PL-SQL programming, Sales Force Developer with APEX.  Designations & Promotions  Willing to relocate: Anywhere  WORK EXPERIENCE  Senior Software Engineer  Cloud Lending Solutions -  Bangalore, Karnataka -  January 2018 to Present  Present  Senior Consultant  Oracle -  Bangalore, Karnataka -  November 2016 to December 2017  Staff Consultant  Oracle -  Bangalore, Karnataka -  January 2014 to October 2016  Associate Consultant  Oracle -  Bangalore, Karnataka -  November 2012 to December 2013  EDUCATION  B.E in Computer Science Engineering  Adithya Institute of Technology -  Tamil Nadu  September 2008 to June 2012  https://www.indeed.com/r/Govardhana-K/b2de315d95905b68?isid=rex-download&ikw=download-top&co=IN https://www.indeed.com/r/Govardhana-K/b2de315d95905b68?isid=rex-download&ikw=download-top&co=IN   SKILLS  APEX. (Less than 1 year), Data Structures (3 years), FLEXCUBE (5 years), Oracle (5 years), Algorithms (3 years)  LINKS  https://www.linkedin.com/in/govardhana-k-61024944/  ADDITIONAL INFORMATION  Technical Proficiency:  Languages: Core Java, Go Lang, Data Structures & Algorithms, Oracle PL-SQL programming, Sales Force with APEX. Tools: RADTool, Jdeveloper, NetBeans, Eclipse, SQL developer, PL/SQL Developer, WinSCP, Putty Web Technologies: JavaScript, XML, HTML, Webservice  Operating Systems: Linux, Windows Version control system SVN & Git-Hub Databases: Oracle Middleware: Web logic, OC4J Product FLEXCUBE: Oracle FLEXCUBE Versions 10.x, 11.x and 12.x  https://www.linkedin.com/in/govardhana-k-61024944/',\n",
              " {'entities': [(1749, 1755, 'Companies worked at'),\n",
              "   (1696, 1702, 'Companies worked at'),\n",
              "   (1417, 1423, 'Companies worked at'),\n",
              "   (1356, 1793, 'Skills'),\n",
              "   (1209, 1215, 'Companies worked at'),\n",
              "   (1136, 1248, 'Skills'),\n",
              "   (928, 932, 'Graduation Year'),\n",
              "   (858, 889, 'College Name'),\n",
              "   (821, 856, 'Degree'),\n",
              "   (787, 791, 'Graduation Year'),\n",
              "   (744, 750, 'Companies worked at'),\n",
              "   (722, 742, 'Designation'),\n",
              "   (658, 664, 'Companies worked at'),\n",
              "   (640, 656, 'Designation'),\n",
              "   (574, 580, 'Companies worked at'),\n",
              "   (555, 573, 'Designation'),\n",
              "   (470, 493, 'Companies worked at'),\n",
              "   (444, 469, 'Designation'),\n",
              "   (308, 314, 'Companies worked at'),\n",
              "   (234, 240, 'Companies worked at'),\n",
              "   (175, 198, 'Companies worked at'),\n",
              "   (93, 137, 'Email Address'),\n",
              "   (39, 48, 'Location'),\n",
              "   (13, 38, 'Designation'),\n",
              "   (0, 12, 'Name')]})"
            ]
          },
          "metadata": {},
          "execution_count": 3
        }
      ]
    },
    {
      "cell_type": "code",
      "source": [
        "nlp = spacy.blank('en')\n",
        "\n",
        "def train_model(train_data):\n",
        "    if 'ner' not in nlp.pipe_names:\n",
        "        ner = nlp.create_pipe('ner')\n",
        "        nlp.add_pipe(ner, last = True)\n",
        "    for _, annotation in train_data:\n",
        "        for ent in annotation['entities']:\n",
        "            ner.add_label(ent[2])\n",
        "    \n",
        "    # get names of other pipes to disable them during training\n",
        "    other_pipes = [pipe for pipe in nlp.pipe_names if pipe != 'ner']\n",
        "    # only train NER\n",
        "    with nlp.disable_pipes(*other_pipes):\n",
        "        optimizer = nlp.begin_training()\n",
        "        for itn in range(10):\n",
        "            print(\"Starting iteration \" + str(itn))\n",
        "            random.shuffle(train_data)\n",
        "            losses = {}\n",
        "            index = 0\n",
        "            for text, annotations in train_data:\n",
        "                # print(index)\n",
        "                try:        \n",
        "                    nlp.update(\n",
        "                        [text],  # batch of texts\n",
        "                        [annotations],  # batch of annotations\n",
        "                        drop=0.2,  # dropout - make it harder to memorise data\n",
        "                        sgd=optimizer,\n",
        "                        losses=losses,\n",
        "                    )\n",
        "                except Exception as e:\n",
        "                    pass\n",
        "            print(\"Losses\", losses)"
      ],
      "metadata": {
        "id": "zMqri5ayFLXX"
      },
      "execution_count": null,
      "outputs": []
    },
    {
      "cell_type": "code",
      "source": [
        "train_model(train_data)"
      ],
      "metadata": {
        "colab": {
          "base_uri": "https://localhost:8080/"
        },
        "id": "nwnyBT4SFPLP",
        "outputId": "f59fbc26-ae51-4454-f373-27db8a765587"
      },
      "execution_count": null,
      "outputs": [
        {
          "output_type": "stream",
          "name": "stdout",
          "text": [
            "Starting iteration 0\n",
            "Losses {'ner': 12701.013050220472}\n",
            "Starting iteration 1\n",
            "Losses {'ner': 8495.452299066066}\n",
            "Starting iteration 2\n",
            "Losses {'ner': 8834.772893860003}\n",
            "Starting iteration 3\n",
            "Losses {'ner': 7007.7219985868405}\n",
            "Starting iteration 4\n",
            "Losses {'ner': 5691.451849933543}\n",
            "Starting iteration 5\n",
            "Losses {'ner': 6974.7929066598235}\n",
            "Starting iteration 6\n",
            "Losses {'ner': 5586.215760257856}\n",
            "Starting iteration 7\n",
            "Losses {'ner': 5430.90247379353}\n",
            "Starting iteration 8\n",
            "Losses {'ner': 5635.714339817892}\n",
            "Starting iteration 9\n",
            "Losses {'ner': 4803.364218299161}\n"
          ]
        }
      ]
    },
    {
      "cell_type": "code",
      "source": [
        "nlp.to_disk('nlp_model')"
      ],
      "metadata": {
        "id": "kAAF2wOOFR2y"
      },
      "execution_count": null,
      "outputs": []
    },
    {
      "cell_type": "code",
      "source": [
        ""
      ],
      "metadata": {
        "id": "6YeJx1vuG7F9"
      },
      "execution_count": null,
      "outputs": []
    },
    {
      "cell_type": "code",
      "source": [
        "nlp_model = spacy.load('nlp_model')"
      ],
      "metadata": {
        "id": "JBCpN6FQHHr-"
      },
      "execution_count": null,
      "outputs": []
    },
    {
      "cell_type": "code",
      "source": [
        "train_data[0]"
      ],
      "metadata": {
        "colab": {
          "base_uri": "https://localhost:8080/"
        },
        "id": "A4JyvtGUHPM0",
        "outputId": "66d3e65e-5158-4540-c518-804b0b81f4a2"
      },
      "execution_count": null,
      "outputs": [
        {
          "output_type": "execute_result",
          "data": {
            "text/plain": [
              "(\"Koushik Katta Devops  Hyderabad, Telangana - Email me on Indeed: indeed.com/r/Koushik-Katta/a6b19244854199ec  DevOps Administrator with an experience of 3.4 years working in a challenging agile environment, looking forward for a position where I can use my knowledge pursuing my domain interests. I'm more aligned to work for companies where knowledge and intellectual ability takes the lead which can utilize a performance driven individual efficiently.  WORK EXPERIENCE  Devops Engineer  Infosys limited -  Hyderabad, Telangana -  December 2014 to Present  Hyderabad, since December 2014 to till date.  Skill and Abilities: Atlassian Tools: Jira, Confluence Configuration Management: Ansible /Chef CI Tools: Jenkins Monitoring Tools: Nagios Cloud: AWS Containerization: Docker Build Tools: Bamboo\\\\Maven Log Tools: Splunk Databases: RDBMS, MYSQL, Oracle Database Programming Languages: Python and Java Scripting: Power Shell Operating Systems: Windows, Linux family, Redhat Linux Middleware: Websphere, Tomcat, Websphere MQ  Responsibilities: DEVOPS ADMINISTRATOR INFOSYS LTD.  Atlassian tools Release Management according  Infosys limited -  December 2014 to Present  to project needs. ✓ Review and upgrade of Plugins to meet project requirements and to achieve better performance. ✓ Configuring Automated Mail handlers, Webhooks as POC to test the new demands raised by client.  https://www.indeed.com/r/Koushik-Katta/a6b19244854199ec?isid=rex-download&ikw=download-top&co=IN   ✓ JIRA Project Management/Administration. ✓ Confluence Space Management/Administration. ✓ Bitbucket Project/Repository Management/Administration (Enterprise/DataCenter) ✓ Integration of Webhooks in Bitbucket. ✓ Streamlining tools access management with Crowd. 2. Administration and Maintenance of Jenkins ✓ Configure and maintain Jenkins slaves as per the requirement. ✓ Jenkins release management. ✓ Work closely with Development teams to configure CI/CD Pipelines to automate their build & deployment process. ✓ Review, Installation/Upgrade and configuration of Jenkins Plugins. ✓ Configuring proxy on the environments to enable security ✓ Debug build issues 3. Administration and Maintenance of Docker registry 4. Working with Open-Source Nagios plugins on demand basis to setup ICINGA monitoring for our on-premise Servers/Applications. 5. Alerting Setup Splunk. 6. Monitoring Dashboards setup using kibana. 7. Working with product support teams to resolve the product bugs. 8. Involve in client meetings and tool performance reviews to ensure stakeholder satisfaction. 9. Work closely with Infrastructure Teams to setup/maintain/improve the above mentioned application on large scale.  EDUCATION  Bachelor Of Engineering in Mechanical Engineering  Lovely Professional University  2010 to 2014  Secondary School Certificate in education  Board of Intermediate education -  Hyderabad, Telangana  2008 to 2010  Sister Nivedita School -  Karimnagar, Telangana  2008  SKILLS  Jira, Ansible, Jenkins, Splunk, Nagios, Docker, Python, AWS, Bamboo, Linux, Git, Chef, Windows, Powershell Scripting  ADDITIONAL INFORMATION  • Ability to learn new technologies and processes rapidly and implement them in the project. • Highly motivated with very good problem solving and analytical skills Well organized, with excellent in multitasking and prioritizing the work.    • Effective communicator with an ability to convey ideas in speaking and writing. • Excellent analytical and decision making skills. • Ability to work in pressurized situation. • Hard worker and goal oriented. • Always ready to learn new skills\",\n",
              " {'entities': [(2957, 3074, 'Skills'),\n",
              "   (2943, 2948, 'Graduation Year'),\n",
              "   (2894, 2917, 'College Name'),\n",
              "   (2888, 2892, 'Graduation Year'),\n",
              "   (2858, 2867, 'Location'),\n",
              "   (2823, 2854, 'Degree'),\n",
              "   (2780, 2822, 'Degree'),\n",
              "   (2774, 2778, 'Graduation Year'),\n",
              "   (2766, 2770, 'Graduation Year'),\n",
              "   (2734, 2764, 'College Name'),\n",
              "   (2683, 2732, 'Degree'),\n",
              "   (1394, 1437, 'Email Address'),\n",
              "   (1153, 1157, 'Graduation Year'),\n",
              "   (1125, 1140, 'Companies worked at'),\n",
              "   (1044, 1064, 'Designation'),\n",
              "   (626, 1024, 'Skills'),\n",
              "   (585, 589, 'Graduation Year'),\n",
              "   (559, 568, 'Location'),\n",
              "   (542, 546, 'Graduation Year'),\n",
              "   (509, 518, 'Location'),\n",
              "   (490, 505, 'Companies worked at'),\n",
              "   (65, 108, 'Email Address'),\n",
              "   (22, 31, 'Location'),\n",
              "   (0, 13, 'Name')]})"
            ]
          },
          "metadata": {},
          "execution_count": 8
        }
      ]
    },
    {
      "cell_type": "code",
      "source": [
        "doc = nlp_model(train_data[0][0])\n",
        "for ent in doc.ents:\n",
        "  print(f'{ent.label_.upper():{30}}- {ent.text}')"
      ],
      "metadata": {
        "colab": {
          "base_uri": "https://localhost:8080/"
        },
        "id": "NvCu_kd4HXyf",
        "outputId": "413a17bc-4cc8-4c09-d05a-dd750e1c2a9f"
      },
      "execution_count": null,
      "outputs": [
        {
          "output_type": "stream",
          "name": "stdout",
          "text": [
            "NAME                          - Koushik Katta\n",
            "LOCATION                      - Hyderabad\n",
            "EMAIL ADDRESS                 - indeed.com/r/Koushik-Katta/a6b19244854199ec\n",
            "COMPANIES WORKED AT           - Infosys limited\n",
            "GRADUATION YEAR               - 2014\n",
            "DEGREE                        - Bachelor Of Engineering in Mechanical Engineering\n",
            "COLLEGE NAME                  - Lovely Professional University\n",
            "GRADUATION YEAR               - 2014\n",
            "SKILLS                        - Jira, Ansible, Jenkins, Splunk, Nagios, Docker, Python, AWS, Bamboo, Linux, Git, Chef, Windows, Powershell Scripting\n"
          ]
        }
      ]
    },
    {
      "cell_type": "code",
      "source": [
        "!pip install PyMuPDF"
      ],
      "metadata": {
        "colab": {
          "base_uri": "https://localhost:8080/"
        },
        "id": "JMo7pXWrIPJ1",
        "outputId": "a2b09889-21e6-423f-8bf9-c217b3b9a9d2"
      },
      "execution_count": null,
      "outputs": [
        {
          "output_type": "stream",
          "name": "stdout",
          "text": [
            "Collecting PyMuPDF\n",
            "  Downloading PyMuPDF-1.19.6-cp37-cp37m-manylinux_2_17_x86_64.manylinux2014_x86_64.whl (8.8 MB)\n",
            "\u001b[K     |████████████████████████████████| 8.8 MB 4.9 MB/s \n",
            "\u001b[?25hInstalling collected packages: PyMuPDF\n",
            "Successfully installed PyMuPDF-1.19.6\n"
          ]
        }
      ]
    },
    {
      "cell_type": "code",
      "source": [
        "import sys, fitz\n",
        "fname = 'Alice Clark CV.pdf'\n",
        "doc = fitz.open(fname)\n",
        "text = \"\"\n",
        "for page in doc:\n",
        "  text = text + str(page.getText())\n",
        "\n",
        "tx = \" \".join(text.split('\\n'))  \n",
        "print(text)"
      ],
      "metadata": {
        "colab": {
          "base_uri": "https://localhost:8080/"
        },
        "id": "mql_GA8WIuDe",
        "outputId": "a4bbe97b-d3f0-4d1a-dc4b-92466666593d"
      },
      "execution_count": null,
      "outputs": [
        {
          "output_type": "stream",
          "name": "stdout",
          "text": [
            "Alice Clark \n",
            "AI / Machine Learning \n",
            " \n",
            "Delhi, India Email me on Indeed \n",
            "• \n",
            "20+ years of experience in data handling, design, and development \n",
            "• \n",
            "Data Warehouse: Data analysis, star/snow flake scema data modelling and design specific to \n",
            "data warehousing and business intelligence \n",
            "• \n",
            "Database: Experience in database designing, scalability, back-up and recovery, writing and \n",
            "optimizing SQL code and Stored Procedures, creating functions, views, triggers and indexes. \n",
            "Cloud platform: Worked on Microsoft Azure cloud services like Document DB, SQL Azure, \n",
            "Stream Analytics, Event hub, Power BI, Web Job, Web App, Power BI, Azure data lake \n",
            "analytics(U-SQL) \n",
            "Willing to relocate anywhere \n",
            " \n",
            "WORK EXPERIENCE \n",
            "Software Engineer \n",
            "Microsoft – Bangalore, Karnataka \n",
            "January 2000 to Present \n",
            "1. Microsoft Rewards Live dashboards: \n",
            "Description: - Microsoft rewards is loyalty program that rewards Users for browsing and shopping \n",
            "online. Microsoft Rewards members can earn points when searching with Bing, browsing with \n",
            "Microsoft Edge and making purchases at the Xbox Store, the Windows Store and the Microsoft \n",
            "Store. Plus, user can pick up bonus points for taking daily quizzes and tours on the Microsoft \n",
            "rewards website. Rewards live dashboards gives a live picture of usage world-wide and by \n",
            "markets like US, Canada, Australia, new user registration count, top/bottom performing rewards \n",
            "offers, orders stats and weekly trends of user activities, orders and new user registrations. the \n",
            "PBI tiles gets refreshed in different frequencies starting from 5 seconds to 30 minutes. \n",
            "Technology/Tools used \n",
            " \n",
            "EDUCATION \n",
            "Indian Institute of Technology – Mumbai \n",
            "2001 \n",
            " \n",
            "SKILLS \n",
            "Machine Learning, Natural Language Processing, and Big Data Handling \n",
            " \n",
            "ADDITIONAL INFORMATION \n",
            "Professional Skills \n",
            "• Excellent analytical, problem solving, communication, knowledge transfer and interpersonal \n",
            "skills with ability to interact with individuals at all the levels \n",
            "• Quick learner and maintains cordial relationship with project manager and team members and \n",
            "good performer both in team and independent job environments \n",
            "• Positive attitude towards superiors &amp; peers \n",
            "• Supervised junior developers throughout project lifecycle and provided technical assistance \n",
            "\n"
          ]
        },
        {
          "output_type": "stream",
          "name": "stderr",
          "text": [
            "Deprecation: 'getText' removed from class 'Page' after v1.19 - use 'get_text'.\n"
          ]
        }
      ]
    },
    {
      "cell_type": "code",
      "source": [
        "doc = nlp_model(tx)\n",
        "for ent in doc.ents:\n",
        "  print(f'{ent.label_.upper():{30}}- {ent.text}')"
      ],
      "metadata": {
        "colab": {
          "base_uri": "https://localhost:8080/"
        },
        "id": "3mta5pNRJQHV",
        "outputId": "0ec80e8c-05d9-44cf-a67d-7eee39b066af"
      },
      "execution_count": null,
      "outputs": [
        {
          "output_type": "stream",
          "name": "stdout",
          "text": [
            "NAME                          - Alice Clark\n",
            "LOCATION                      - Delhi\n",
            "COMPANIES WORKED AT           - Microsoft\n",
            "DESIGNATION                   - Software Engineer\n",
            "COMPANIES WORKED AT           - Microsoft\n",
            "COMPANIES WORKED AT           - Microsoft\n",
            "COMPANIES WORKED AT           - Microsoft\n",
            "COMPANIES WORKED AT           - Microsoft\n",
            "COMPANIES WORKED AT           - Microsoft\n",
            "COMPANIES WORKED AT           - Microsoft\n",
            "DEGREE                        - Indian Institute of Technology – Mumbai\n",
            "SKILLS                        - Machine Learning, Natural Language Processing, and Big Data Handling\n"
          ]
        }
      ]
    },
    {
      "cell_type": "code",
      "source": [
        ""
      ],
      "metadata": {
        "id": "Ic0rReHJJt3J"
      },
      "execution_count": null,
      "outputs": []
    }
  ]
}