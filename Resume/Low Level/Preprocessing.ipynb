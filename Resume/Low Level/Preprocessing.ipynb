{
 "cells": [
  {
   "cell_type": "markdown",
   "metadata": {},
   "source": [
    "# Resume Screening\n",
    "## Version 1.0"
   ]
  },
  {
   "cell_type": "markdown",
   "metadata": {},
   "source": [
    "***\n",
    "#### Pipeline\n",
    "\n",
    "1. Resume Parsing  \n",
    "    * The first subtask is parsing the resume, i.e., extracting information in a structured format from the document. \n",
    "2. Resume Matching\n",
    "    * The second sub-task is extracting semantic information and actually understanding the underlying information.\n",
    "3. Database Formation\n",
    "\n",
    "***"
   ]
  },
  {
   "cell_type": "markdown",
   "metadata": {},
   "source": [
    "### Import Libraries"
   ]
  },
  {
   "cell_type": "code",
   "execution_count": 7,
   "metadata": {},
   "outputs": [],
   "source": [
    "# !pip install PyMuPDF\n",
    "# !pip install docx2pdf"
   ]
  },
  {
   "cell_type": "code",
   "execution_count": 1,
   "metadata": {},
   "outputs": [],
   "source": [
    "import numpy\n",
    "import sys\n",
    "import fitz\n",
    "from docx2pdf import convert"
   ]
  },
  {
   "cell_type": "markdown",
   "metadata": {},
   "source": [
    "### Reading the file"
   ]
  },
  {
   "cell_type": "code",
   "execution_count": 7,
   "metadata": {},
   "outputs": [],
   "source": [
    "def read_file(fname):\n",
    "    if fname.split(\".\")[1] == 'docx':\n",
    "        convert(fname)\n",
    "        fname = fname.split(\".\")[0] + \".pdf\"\n",
    "    elif fname.split(\".\")[1] == 'pdf':\n",
    "        pass\n",
    "    else:\n",
    "        print(\"Only PDF and docx types are supported!\")\n",
    "        return\n",
    "    \n",
    "    doc = fitz.open(fname)\n",
    "    text = \"\"\n",
    "    for page in doc:\n",
    "        text = text + str(page.get_text())\n",
    "\n",
    "    tx = \" \".join(text.split('\\n'))  \n",
    "    print(text)"
   ]
  },
  {
   "cell_type": "code",
   "execution_count": null,
   "metadata": {},
   "outputs": [],
   "source": [
    "read_file('Ahmed Osama-Long Version.doc')"
   ]
  },
  {
   "cell_type": "markdown",
   "metadata": {},
   "source": [
    "### Pre-processing\n",
    "* It consists of some main steps\n",
    "    * Tokenization\n",
    "    * Stemming\n",
    "    * Lemmatization\n",
    "    * Removing Stop Words"
   ]
  },
  {
   "cell_type": "code",
   "execution_count": null,
   "metadata": {},
   "outputs": [],
   "source": []
  }
 ],
 "metadata": {
  "interpreter": {
   "hash": "b3ba2566441a7c06988d0923437866b63cedc61552a5af99d1f4fb67d367b25f"
  },
  "kernelspec": {
   "display_name": "Python 3.7.11 ('base')",
   "language": "python",
   "name": "python3"
  },
  "language_info": {
   "codemirror_mode": {
    "name": "ipython",
    "version": 3
   },
   "file_extension": ".py",
   "mimetype": "text/x-python",
   "name": "python",
   "nbconvert_exporter": "python",
   "pygments_lexer": "ipython3",
   "version": "3.7.11"
  },
  "orig_nbformat": 4
 },
 "nbformat": 4,
 "nbformat_minor": 2
}
