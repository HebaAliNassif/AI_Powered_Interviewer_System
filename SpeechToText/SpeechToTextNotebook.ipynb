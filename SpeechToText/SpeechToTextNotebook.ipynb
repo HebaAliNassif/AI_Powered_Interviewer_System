{
 "cells": [
  {
   "cell_type": "code",
   "execution_count": 1,
   "metadata": {},
   "outputs": [
    {
     "name": "stdout",
     "output_type": "stream",
     "text": [
      "Collecting SpeechRecognition\n",
      "  Downloading https://files.pythonhosted.org/packages/26/e1/7f5678cd94ec1234269d23756dbdaa4c8cfaed973412f88ae8adf7893a50/SpeechRecognition-3.8.1-py2.py3-none-any.whl (32.8MB)\n",
      "Collecting pydub\n",
      "  Downloading https://files.pythonhosted.org/packages/a6/53/d78dc063216e62fc55f6b2eebb447f6a4b0a59f55c8406376f76bf959b08/pydub-0.25.1-py2.py3-none-any.whl\n",
      "Installing collected packages: SpeechRecognition, pydub\n",
      "Successfully installed SpeechRecognition-3.8.1 pydub-0.25.1\n"
     ]
    }
   ],
   "source": [
    "#!pip install SpeechRecognition pydub\n",
    "#https://www.thepythoncode.com/article/using-speech-recognition-to-convert-speech-to-text-python"
   ]
  },
  {
   "cell_type": "code",
   "execution_count": 8,
   "metadata": {},
   "outputs": [],
   "source": [
    "import speech_recognition as sr"
   ]
  },
  {
   "cell_type": "code",
   "execution_count": 4,
   "metadata": {},
   "outputs": [
    {
     "name": "stdout",
     "output_type": "stream",
     "text": [
      "no hear the voice of a young woman and born and raised in the Charleston area educated in a South Carolina University living later and other areas of the country and joining the Seals force of the large Nationwide corporation first South Carolina universities and not kinda low country accents they tend the loop them deliberately s sales job with the national company she felt her original accent was a gentleman and she tended to consciously suppress it at least on the job down the main to reach the plane when the rapid and the far split at The Rock in together again accept my bed or nearer or wide and flee from Valley on every side with the Lovers pain to obtain in the plane for from the hills of havisham for from the valleys of Hall all down the hills of heversham or through the valley of all the Russians cried abide by the wilfort waterweed help me throw the Laughing Laurel turn my tide the firms in the family grass I stay the DuBarry depth for to work delay in the little reedside abide abide here in the hills of heversham here in the valleys of Hall how are the hills of heversham veiling the valleys of Hall the hickory tolmie manifold fairy tales of shade the popular tool rock Mijas chataway self to hold the chestnut Theo the Walnut the pine overlining with flickering meaning Inside So pass not so Sokol this manifold deep shapes that showed to the Hills of habersham these Glades in the valleys of a hall and often the hills of havisham and after the valleys of Hall the white quartz shown in the smooth Brookstone the barmy a passage with Brinley bra and medialunas jewel long crystal clear or cloudy with missed the rubies garnet and amethyst made lowers with the Lights of streaming stone in the class of the hills of havisham in the beds at the valleys of the hall but all not the hills of heversham and no not the valleys of harm avail I am paying for to order the plane down with the forces of Duty car downward to Toyland to be mixed with the main the dryer feels burn in the meals or to turn Anna Meredith flowers Morley yarn and the lordly main from behind the plane calls or the hills of havisham cost through the valleys of the hall\n"
     ]
    }
   ],
   "source": [
    "filename = \"master.wav\"\n",
    "# initialize the recognizer\n",
    "r = sr.Recognizer()\n",
    "# open the file\n",
    "with sr.AudioFile(filename) as source:\n",
    "    # listen for the data (load audio to memory)\n",
    "    audio_data = r.record(source)\n",
    "    # recognize (convert from speech to text)\n",
    "    text = r.recognize_google(audio_data)\n",
    "    print(text)"
   ]
  },
  {
   "cell_type": "code",
   "execution_count": 2,
   "metadata": {},
   "outputs": [],
   "source": [
    "#Reading Large Audio Files\n",
    "#If you want to perform speech recognition of a long audio file, then the below function handles that quite well:"
   ]
  },
  {
   "cell_type": "code",
   "execution_count": 15,
   "metadata": {},
   "outputs": [],
   "source": [
    "# importing libraries \n",
    "import os\n",
    "from pydub import AudioSegment\n",
    "\n",
    "from pydub.silence import split_on_silence\n",
    "\n",
    "# create a speech recognition object\n",
    "r = sr.Recognizer()\n",
    "\n",
    "# a function that splits the audio file into chunks\n",
    "# and applies speech recognition\n",
    "def get_large_audio_transcription(path):\n",
    "    \"\"\"\n",
    "    Splitting the large audio file into chunks\n",
    "    and apply speech recognition on each of these chunks\n",
    "    \"\"\"\n",
    "    # open the audio file using pydub\n",
    "    sound = AudioSegment.from_wav(path)  \n",
    "    # split audio sound where silence is 700 miliseconds or more and get chunks\n",
    "    chunks = split_on_silence(sound,\n",
    "        # experiment with this value for your target audio file\n",
    "        min_silence_len = 500,\n",
    "        # adjust this per requirement\n",
    "        silence_thresh = sound.dBFS-14,\n",
    "        # keep the silence for 1 second, adjustable as well\n",
    "        keep_silence=500,\n",
    "    )\n",
    "    folder_name = \"audio-chunks\"\n",
    "    # create a directory to store the audio chunks\n",
    "    if not os.path.isdir(folder_name):\n",
    "        os.mkdir(folder_name)\n",
    "    whole_text = \"\"\n",
    "    # process each chunk \n",
    "    for i, audio_chunk in enumerate(chunks, start=1):\n",
    "        # export audio chunk and save it in\n",
    "        # the `folder_name` directory.\n",
    "        chunk_filename = os.path.join(folder_name, f\"chunk{i}.wav\")\n",
    "        audio_chunk.export(chunk_filename, format=\"wav\")\n",
    "        # recognize the chunk\n",
    "        with sr.AudioFile(chunk_filename) as source:\n",
    "            audio_listened = r.record(source)\n",
    "            # try converting it to text\n",
    "            try:\n",
    "                text = r.recognize_google(audio_listened)\n",
    "            except sr.UnknownValueError as e:\n",
    "                text = \".\"\n",
    "                whole_text += text\n",
    "                #print(\"Error:\", str(e))\n",
    "            else:\n",
    "                text = f\"{text.capitalize()}. \"\n",
    "                #print(chunk_filename, \":\", text)\n",
    "                whole_text += text\n",
    "    # return the text for all chunks detected\n",
    "    return whole_text"
   ]
  },
  {
   "cell_type": "code",
   "execution_count": 8,
   "metadata": {},
   "outputs": [
    {
     "name": "stdout",
     "output_type": "stream",
     "text": [
      "audio-chunks\\chunk1.wav : Now hear the voice of a young woman and born and raised in the charleston area. \n",
      "audio-chunks\\chunk2.wav : Educating denise south carolina university. \n",
      "audio-chunks\\chunk3.wav : Living later in other areas of the country. \n",
      "audio-chunks\\chunk4.wav : And joining the seals force of a large nationwide corporation. \n",
      "audio-chunks\\chunk5.wav : First south carolina universities and not kind of lowcountry access. \n",
      "audio-chunks\\chunk6.wav : 18 dilute down delivered. \n",
      "audio-chunks\\chunk7.wav : Second-hand sales job with the national company. \n",
      "audio-chunks\\chunk8.wav : She felt in her original accent was a dettol. \n",
      "audio-chunks\\chunk9.wav : Intended to consciously suppress. \n",
      "audio-chunks\\chunk10.wav : At least on the job. \n",
      "audio-chunks\\chunk11.wav : Was it heversham down the valleys of hall. \n",
      "audio-chunks\\chunk12.wav : I heard your name to reach the plane when the rabbits in the farm. \n",
      "audio-chunks\\chunk13.wav : Let the rock in together again except my bed or nearer or wide and flee from valley on every side. \n",
      "audio-chunks\\chunk14.wav : The lovers pain to obtain the plain for from the hills of haversham. \n",
      "audio-chunks\\chunk15.wav : Far from the valleys of hall. \n",
      "audio-chunks\\chunk16.wav : Are down the hills of heversham are through the valleys. \n",
      "audio-chunks\\chunk17.wav : The rashes cried abide by. \n",
      "audio-chunks\\chunk18.wav : The wilful waterweed help me throw. \n",
      "audio-chunks\\chunk19.wav : The letting laurel termite i. \n",
      "audio-chunks\\chunk20.wav : The ferns in the family grass they stay. \n",
      "audio-chunks\\chunk21.wav : The dab radio. \n",
      "audio-chunks\\chunk22.wav : What to work delay. \n",
      "audio-chunks\\chunk23.wav : In the little reedside abide abide. \n",
      "audio-chunks\\chunk24.wav : Here in the hills of heversham here in the valleys of hall. \n",
      "audio-chunks\\chunk25.wav : How are the hills of heversham. \n",
      "audio-chunks\\chunk26.wav : Veiling the valleys of hall. \n",
      "audio-chunks\\chunk27.wav : The hypocrite army manifold. \n",
      "audio-chunks\\chunk28.wav : Fairytales of shade the patriot are. \n",
      "audio-chunks\\chunk29.wav : Rock me her shadowy self 2ho. \n",
      "audio-chunks\\chunk30.wav : The chestnut theo the one at the pine. \n",
      "audio-chunks\\chunk31.wav : Overweening with flickering meaning inside. \n",
      "audio-chunks\\chunk32.wav : C'est pas not sokol this manifold deep shaves shades of the hills of haversham. \n",
      "audio-chunks\\chunk33.wav : Displayed in the valleys of a hall. \n",
      "audio-chunks\\chunk34.wav : In ark in the hills of haversham. \n",
      "audio-chunks\\chunk35.wav : Not in the valleys of hall. \n",
      "audio-chunks\\chunk36.wav : The white quartz shown in the smooth brookstone devoir me a passage with friendly bra and medialunas jewel long crystal clear or cloudy with me. \n",
      "audio-chunks\\chunk37.wav : Ruby's garnet in amethyst. \n",
      "audio-chunks\\chunk38.wav : Made laws with the lights of streaming stone. \n",
      "audio-chunks\\chunk39.wav : In the class of the hills of heversham in the beds at the valleys of the hall. \n",
      "audio-chunks\\chunk40.wav : But not the hills of havisham and known at the valleys of home. \n",
      "audio-chunks\\chunk41.wav : Avail. \n",
      "audio-chunks\\chunk42.wav : I am paying for to water the plane. \n",
      "audio-chunks\\chunk43.wav : Download the forces of duty car. \n",
      "audio-chunks\\chunk44.wav : Downward to toil and to be mixed with the main. \n",
      "audio-chunks\\chunk45.wav : The dryer feels burn in a meal. \n",
      "audio-chunks\\chunk46.wav : How to turn. \n",
      "audio-chunks\\chunk47.wav : In a mirrored flowers morley yarn. \n",
      "audio-chunks\\chunk48.wav : In the lord lee main from behind the plane. \n",
      "audio-chunks\\chunk49.wav : Cars or the heels of havisham. \n",
      "audio-chunks\\chunk50.wav : How's through the valleys of the hall. \n",
      "\n",
      "Full text: Now hear the voice of a young woman and born and raised in the charleston area. Educating denise south carolina university. Living later in other areas of the country. And joining the seals force of a large nationwide corporation. First south carolina universities and not kind of lowcountry access. 18 dilute down delivered. Second-hand sales job with the national company. She felt in her original accent was a dettol. Intended to consciously suppress. At least on the job. Was it heversham down the valleys of hall. I heard your name to reach the plane when the rabbits in the farm. Let the rock in together again except my bed or nearer or wide and flee from valley on every side. The lovers pain to obtain the plain for from the hills of haversham. Far from the valleys of hall. Are down the hills of heversham are through the valleys. The rashes cried abide by. The wilful waterweed help me throw. The letting laurel termite i. The ferns in the family grass they stay. The dab radio. What to work delay. In the little reedside abide abide. Here in the hills of heversham here in the valleys of hall. How are the hills of heversham. Veiling the valleys of hall. The hypocrite army manifold. Fairytales of shade the patriot are. Rock me her shadowy self 2ho. The chestnut theo the one at the pine. Overweening with flickering meaning inside. C'est pas not sokol this manifold deep shaves shades of the hills of haversham. Displayed in the valleys of a hall. In ark in the hills of haversham. Not in the valleys of hall. The white quartz shown in the smooth brookstone devoir me a passage with friendly bra and medialunas jewel long crystal clear or cloudy with me. Ruby's garnet in amethyst. Made laws with the lights of streaming stone. In the class of the hills of heversham in the beds at the valleys of the hall. But not the hills of havisham and known at the valleys of home. Avail. I am paying for to water the plane. Download the forces of duty car. Downward to toil and to be mixed with the main. The dryer feels burn in a meal. How to turn. In a mirrored flowers morley yarn. In the lord lee main from behind the plane. Cars or the heels of havisham. How's through the valleys of the hall. \n"
     ]
    }
   ],
   "source": [
    "path = \"master.wav\"\n",
    "print(\"\\nFull text:\", get_large_audio_transcription(path))"
   ]
  },
  {
   "cell_type": "code",
   "execution_count": 4,
   "metadata": {},
   "outputs": [],
   "source": [
    "#converting mp4 to wav\n",
    "#!pip install moviepy --user\n",
    "import os\n",
    "import sys\n",
    "from moviepy.editor import VideoFileClip\n",
    "\n",
    "\n",
    "def convert_video_to_audio_moviepy(video_file, output_ext=\"wav\"):\n",
    "    \"\"\"Converts video to audio using MoviePy library\n",
    "    that uses `ffmpeg` under the hood\"\"\"\n",
    "    filename, ext = os.path.splitext(video_file)\n",
    "    clip = VideoFileClip(video_file)\n",
    "    clip.audio.write_audiofile(f\"{filename}.{output_ext}\")"
   ]
  },
  {
   "cell_type": "code",
   "execution_count": 16,
   "metadata": {},
   "outputs": [
    {
     "name": "stdout",
     "output_type": "stream",
     "text": [
      "Make your english sound more natural and some expressions for basic conversation. If you want to greet someone in a formal way. You can say. Hello. Good morning. Good afternoon. Good evening. No they goodnight is only used when going to bed so you would never use in a formal situation. To greet someone informally. You could say hi. Hey. Hey there. How's it going. What's up. How are you. So english speakers especially americans will usually say how are you as part of every conversation. They're not really asking how you are it's just part of the greeting. So give only a short answer. Ways to say how are you could be. How are you. How are you doing. How's it going. How do you ben. What's up. Stop. You can respond by saying. Good thanks and you. Creep. Ion thanks. Pretty good. Alright. Sanotra all these answers are short. If someone says what's up. Usually you would say not much nothing. Not a whole lot. Example of a conversation. Hello. Hi. How's it going. Good and you. Fine thanks. Great. Use another one. Hey. Hey there. What's up. Not much you. Nothing. Introduce yourself give your name. I'm. And say your name. Your responses. Nice to meet you. Example. I'm either. Nice to meet you eva and janelle. Nice to meet you. Everything high an introduction you can just continue the conversation. For someone you don't know you can. What do you do. Let me in. What they spend most of their time doing. Principal. What do you do. I work in a bank. And you. I'm a student. Oh i see. What do you do. I work in a restaurant. And you. Ice-t home with my kids. Oh ok. When someone is talking to you. You can use these words to show interest in a conversation. For instance. Really. How interesting. Oh i see. Oh ok. If you want to show someone that you agree with what they're saying. Berate. Oh definitely. .Naturally. Yeah for sure. When someone is talking to you and you want to react to something they said the tab e. You can say. Oh that's great. How nice. Wow really. I'm happy to hear that. If somebody is telling you a funny or amusing story you can say. Oh that's too funny. That's hysterical. That cracks me up. If someone is telling you a surprising or shocking an unexpected story you can say. No way. Really. Seriously. That's unreal. If someone is telling you a sad or upsetting story. You can say. Oh no really. That's too bad. That's a shame. I'm sorry to hear that. For example. I'm studying finance. Really. I will graduate next month. Oh that's great. My car broke down oh no really. It will cost a lot to fix. That's too bad. So when you're ready to end the conversation and you want to go. You can introduce the fact that you're ready to go. You do it by saying something like. I better be on my way. I'm going to get going. Well i'm off. Turn the conversation in a formal setting and to be polite. For someone you've just met you say. It was nice meeting you. The response would be. Same to you. If you're saying goodbye to someone you know what you've been talking to. Princeton. A work colleague or a friend you don't know very well you could say. It was nice seeing you. It was nice talking to you. Always nice to see you. The response would be. Likewise. Same to you. Actually say goodbye say goodbye. Bye. See you. Talk to you later. Take it easy or have a nice day. Have a nice day is really used only for formal situations really don't know someone very well. Example. Alright i better go. Ok. See you later. Take care. It was nice seeing you. Same here. Calculator. Bye. We hope this video was useful to you. If you liked it please click like and subscribe you can check out more videos from education world here. \n"
     ]
    }
   ],
   "source": [
    "#convert_video_to_audio_moviepy(\"learnEnglishVideo.mp4\")\n",
    "path = \"learnEnglishVideo.wav\"\n",
    "text=get_large_audio_transcription(path)\n",
    "print(text)\n",
    "f= open(\"SpeechToTextOutput.txt\",\"w+\")\n",
    "f.write(text)\n",
    "f.close()\n"
   ]
  }
 ],
 "metadata": {
  "interpreter": {
   "hash": "b3ba2566441a7c06988d0923437866b63cedc61552a5af99d1f4fb67d367b25f"
  },
  "kernelspec": {
   "display_name": "Python 3.7.1 64-bit ('base': conda)",
   "language": "python",
   "name": "python3"
  },
  "language_info": {
   "codemirror_mode": {
    "name": "ipython",
    "version": 3
   },
   "file_extension": ".py",
   "mimetype": "text/x-python",
   "name": "python",
   "nbconvert_exporter": "python",
   "pygments_lexer": "ipython3",
   "version": "3.7.1"
  },
  "orig_nbformat": 4
 },
 "nbformat": 4,
 "nbformat_minor": 2
}
