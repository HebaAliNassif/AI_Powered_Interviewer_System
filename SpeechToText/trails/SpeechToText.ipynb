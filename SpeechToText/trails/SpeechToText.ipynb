{
 "cells": [
  {
   "cell_type": "code",
   "execution_count": null,
   "metadata": {},
   "outputs": [],
   "source": [
    "#https://www.youtube.com/watch?v=iWha--55Lz0\n",
    "#!pip install deepspeech==0.9.3"
   ]
  },
  {
   "cell_type": "code",
   "execution_count": null,
   "metadata": {},
   "outputs": [],
   "source": [
    "#!wget https://github.com/mozilla/DeepSpeech/releases/download/v0.9.3/deepspeech-0.9.3-models.pbmm\n",
    "#!wget https://github.com/mozilla/DeepSpeech/releases/download/v0.9.3/deepspeech-0.9.3-models.scorer\n",
    "#!curl -LO https://github.com/mozilla/DeepSpeech/releases/download/v0.9.3/audio-0.9.3.tar.gz\n",
    "#!tar -xvzf audio-0.9.3.tar.gz\n",
    "#!ls -l ./audio/\n"
   ]
  },
  {
   "cell_type": "code",
   "execution_count": 3,
   "metadata": {},
   "outputs": [],
   "source": [
    "from deepspeech import Model\n",
    "import numpy as np\n",
    "import os\n",
    "import wave\n",
    "from IPython.display import Audio\n"
   ]
  },
  {
   "cell_type": "code",
   "execution_count": 4,
   "metadata": {},
   "outputs": [
    {
     "data": {
      "text/plain": [
       "0"
      ]
     },
     "execution_count": 4,
     "metadata": {},
     "output_type": "execute_result"
    }
   ],
   "source": [
    "model_file_path='deepspeech-0.9.3-models.pbmm'\n",
    "lm_file_path='deepspeech-0.9.3-models.scorer'\n",
    "bean_width=500\n",
    "lm_alpha=0.93\n",
    "lm_beta=1.18\n",
    "model = Model(model_file_path)\n",
    "model.enableExternalScorer(lm_file_path)\n",
    "model.setScorerAlphaBeta(lm_alpha,lm_beta)\n",
    "model.setBeamWidth(bean_width)"
   ]
  },
  {
   "cell_type": "code",
   "execution_count": 5,
   "metadata": {},
   "outputs": [],
   "source": [
    "def read_wav_file(filename):\n",
    "    with wave.open(filename,'rb') as w:\n",
    "        rate= w.getframerate()\n",
    "        frames=w.getnframes()\n",
    "        buffer=w.readframes(frames)\n",
    "    return buffer, rate    "
   ]
  },
  {
   "cell_type": "code",
   "execution_count": 6,
   "metadata": {},
   "outputs": [],
   "source": [
    "def transcribe(audio_file):\n",
    "    buffer,rate=read_wav_file(audio_file)\n",
    "    data16=np.frombuffer(buffer,dtype=np.int16)\n",
    "    return model.stt(data16)"
   ]
  },
  {
   "cell_type": "code",
   "execution_count": 17,
   "metadata": {},
   "outputs": [
    {
     "data": {
      "text/plain": [
       "\"mister medicine to animals is frequently a very difficult matter and yet sometimes it's necessary to do so\""
      ]
     },
     "execution_count": 17,
     "metadata": {},
     "output_type": "execute_result"
    }
   ],
   "source": [
    "transcribe('woman1_wb.wav')"
   ]
  },
  {
   "cell_type": "code",
   "execution_count": 18,
   "metadata": {},
   "outputs": [
    {
     "data": {
      "text/plain": [
       "'hamamamama'"
      ]
     },
     "execution_count": 18,
     "metadata": {},
     "output_type": "execute_result"
    }
   ],
   "source": [
    "transcribe('master.wav')"
   ]
  }
 ],
 "metadata": {
  "interpreter": {
   "hash": "b3ba2566441a7c06988d0923437866b63cedc61552a5af99d1f4fb67d367b25f"
  },
  "kernelspec": {
   "display_name": "Python 3.7.1 64-bit ('base': conda)",
   "language": "python",
   "name": "python3"
  },
  "language_info": {
   "codemirror_mode": {
    "name": "ipython",
    "version": 3
   },
   "file_extension": ".py",
   "mimetype": "text/x-python",
   "name": "python",
   "nbconvert_exporter": "python",
   "pygments_lexer": "ipython3",
   "version": "3.7.1"
  },
  "orig_nbformat": 4
 },
 "nbformat": 4,
 "nbformat_minor": 2
}
